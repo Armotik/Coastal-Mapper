{
 "cells": [
  {
   "metadata": {},
   "cell_type": "markdown",
   "source": "## Import Libraries",
   "id": "5edf7f0d1118cc35"
  },
  {
   "cell_type": "code",
   "id": "initial_id",
   "metadata": {
    "collapsed": true,
    "ExecuteTime": {
     "end_time": "2025-10-25T00:27:09.681749Z",
     "start_time": "2025-10-25T00:27:06.254803Z"
    }
   },
   "source": [
    "import ee\n",
    "import geopandas as gpd\n",
    "import osmnx as ox\n",
    "import os\n",
    "\n",
    "print(\"Libraries imported successfully.\")\n",
    "\n",
    "try:\n",
    "    ee.Initialize()\n",
    "    print(\"GEE Initialized successfully.\")\n",
    "except Exception as e:\n",
    "    print(f\"Error initializing GEE: {e}\")\n",
    "    print(\"Make sure you have authenticated using ee.Authenticate() if this is your first time.\")"
   ],
   "outputs": [
    {
     "name": "stdout",
     "output_type": "stream",
     "text": [
      "Libraries imported successfully.\n",
      "GEE Initialized successfully.\n"
     ]
    }
   ],
   "execution_count": 1
  },
  {
   "metadata": {},
   "cell_type": "markdown",
   "source": "## Configuration",
   "id": "cd7d49cf9d479010"
  },
  {
   "metadata": {
    "ExecuteTime": {
     "end_time": "2025-10-25T00:28:49.670946Z",
     "start_time": "2025-10-25T00:28:49.668905Z"
    }
   },
   "cell_type": "code",
   "source": [
    "AOI_FILE = \"../aoi.geojson\"\n",
    "EXPORT_DIR = \"Coastal-Mapper-POC\"\n",
    "EXPORT_NAME = \"S2_Composite_AOI\"\n",
    "BANDS = ['B2', 'B3', 'B4', 'B8'] # Blue, Green, Red, NIR\n",
    "START_DATE = '2023-01-01'\n",
    "END_DATE = '2023-12-31'\n",
    "CLOUD_FILTER_PERCENT = 20 # Max cloud cover percentage"
   ],
   "id": "bbcd5a77a87745a2",
   "outputs": [],
   "execution_count": 3
  },
  {
   "metadata": {},
   "cell_type": "markdown",
   "source": "## 1. Load Area of Interest (AOI)",
   "id": "d8a9f3dea28f249f"
  },
  {
   "metadata": {
    "ExecuteTime": {
     "end_time": "2025-10-25T00:29:22.551736Z",
     "start_time": "2025-10-25T00:29:22.544721Z"
    }
   },
   "cell_type": "code",
   "source": [
    "print(f\"Loading AOI from {AOI_FILE}...\")\n",
    "aoi_gdf = gpd.read_file(AOI_FILE)\n",
    "\n",
    "# Convert AOI to WGS84 and then to EE Geometry\n",
    "aoi_wgs84 = aoi_gdf.to_crs(epsg=4326)\n",
    "aoi_geometry_list = aoi_wgs84.geometry.iloc[0].__geo_interface__['coordinates']\n",
    "aoi_ee = ee.Geometry.Polygon(aoi_geometry_list)\n",
    "print(\"AOI loaded and converted to EE Geometry.\")"
   ],
   "id": "5fd4411b670e3204",
   "outputs": [
    {
     "name": "stdout",
     "output_type": "stream",
     "text": [
      "Loading AOI from ../aoi.geojson...\n",
      "AOI loaded and converted to EE Geometry.\n"
     ]
    }
   ],
   "execution_count": 5
  },
  {
   "metadata": {},
   "cell_type": "markdown",
   "source": "## 2. Define export CRS",
   "id": "c8c2b16b85d1c493"
  },
  {
   "metadata": {
    "ExecuteTime": {
     "end_time": "2025-10-25T00:31:14.375042Z",
     "start_time": "2025-10-25T00:31:14.336107Z"
    }
   },
   "cell_type": "code",
   "source": [
    "utm_crs = ox.project_gdf(gdf=aoi_wgs84).crs\n",
    "EXPORT_CRS = utm_crs.to_string()\n",
    "print(f\"Export CRS set to {EXPORT_CRS}.\")"
   ],
   "id": "ebcce721047eb13e",
   "outputs": [
    {
     "name": "stdout",
     "output_type": "stream",
     "text": [
      "Export CRS set to EPSG:32630.\n"
     ]
    }
   ],
   "execution_count": 8
  },
  {
   "metadata": {},
   "cell_type": "markdown",
   "source": "## 3. Cloud Masking Function",
   "id": "8fee3229253d5961"
  },
  {
   "metadata": {
    "ExecuteTime": {
     "end_time": "2025-10-25T00:32:24.865668Z",
     "start_time": "2025-10-25T00:32:24.863052Z"
    }
   },
   "cell_type": "code",
   "source": [
    "def mask_s2_clouds_l2a(image):\n",
    "    \"\"\"\n",
    "    Mask clouds in Sentinel-2 Level-2A images using the Scene Classification Layer (SCL).\n",
    "    :param image: ee.Image\n",
    "    :return: ee.Image with clouds masked out\n",
    "    \"\"\"\n",
    "    scl = image.select('SCL')\n",
    "\n",
    "    # valid SCL values for non-cloudy pixels\n",
    "    good_pixels = scl.eq(4).Or(scl.eq(5)).Or(scl.eq(6)).Or(scl.eq(7)).Or(scl.eq(11))\n",
    "\n",
    "    return image.updateMask(good_pixels)"
   ],
   "id": "24438e2793b77999",
   "outputs": [],
   "execution_count": 9
  },
  {
   "metadata": {},
   "cell_type": "markdown",
   "source": "## 4. Create Sentinel-2 Composite",
   "id": "3cdf1b16afa8c275"
  },
  {
   "metadata": {
    "ExecuteTime": {
     "end_time": "2025-10-25T00:34:52.540123Z",
     "start_time": "2025-10-25T00:34:52.534985Z"
    }
   },
   "cell_type": "code",
   "source": [
    "s2_collection = (ee.ImageCollection('COPERNICUS/S2_SR_HARMONIZED')\n",
    "                 .filterDate(START_DATE, END_DATE)\n",
    "                 .filterBounds(aoi_ee)\n",
    "                 .filter(ee.Filter.lt('CLOUDY_PIXEL_PERCENTAGE', CLOUD_FILTER_PERCENT))\n",
    "                 .map(mask_s2_clouds_l2a)\n",
    "                 .select(BANDS)\n",
    "                )\n",
    "\n",
    "# Generate median composite\n",
    "composite_median = s2_collection.median()\n",
    "\n",
    "# Clip composite to AOI\n",
    "composite_clipped = composite_median.clip(aoi_ee)\n",
    "\n",
    "print(\"Sentinel-2 composite created and clipped to AOI.\")"
   ],
   "id": "8ecc3baccd9e0200",
   "outputs": [
    {
     "name": "stdout",
     "output_type": "stream",
     "text": [
      "Sentinel-2 composite created and clipped to AOI.\n"
     ]
    }
   ],
   "execution_count": 11
  },
  {
   "metadata": {},
   "cell_type": "markdown",
   "source": "## 5. Export Composite to Google Drive",
   "id": "2412a679422afb71"
  },
  {
   "metadata": {
    "ExecuteTime": {
     "end_time": "2025-10-25T00:34:54.230878Z",
     "start_time": "2025-10-25T00:34:54.228436Z"
    }
   },
   "cell_type": "code",
   "source": [
    "task_config = {\n",
    "    'image': composite_clipped.toFloat(),\n",
    "    'description': EXPORT_NAME,\n",
    "    'folder': EXPORT_DIR,\n",
    "    'scale': 10,  # 10m resolution (Important)\n",
    "    'crs': EXPORT_CRS,\n",
    "    'region': aoi_ee,\n",
    "    'maxPixels': 1e10\n",
    "}"
   ],
   "id": "44b4954469ab38b3",
   "outputs": [],
   "execution_count": 12
  },
  {
   "metadata": {
    "ExecuteTime": {
     "end_time": "2025-10-25T00:35:17.166898Z",
     "start_time": "2025-10-25T00:35:16.701917Z"
    }
   },
   "cell_type": "code",
   "source": [
    "task = ee.batch.Export.image.toDrive(**task_config)\n",
    "task.start()\n",
    "\n",
    "print(f\"Export task started. Check your Google Drive folder '{EXPORT_DIR}' for the exported image.\")"
   ],
   "id": "f8106b390e44ab5f",
   "outputs": [
    {
     "name": "stdout",
     "output_type": "stream",
     "text": [
      "Export task started. Check your Google Drive folder 'Coastal-Mapper-POC' for the exported image.\n"
     ]
    }
   ],
   "execution_count": 13
  }
 ],
 "metadata": {
  "kernelspec": {
   "display_name": "Python 3",
   "language": "python",
   "name": "python3"
  },
  "language_info": {
   "codemirror_mode": {
    "name": "ipython",
    "version": 2
   },
   "file_extension": ".py",
   "mimetype": "text/x-python",
   "name": "python",
   "nbconvert_exporter": "python",
   "pygments_lexer": "ipython2",
   "version": "2.7.6"
  }
 },
 "nbformat": 4,
 "nbformat_minor": 5
}
